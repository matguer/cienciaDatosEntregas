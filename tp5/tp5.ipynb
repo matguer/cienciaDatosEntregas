{
 "cells": [
  {
   "cell_type": "markdown",
   "metadata": {},
   "source": [
    "# Seminario de Ciencia de Datos\n",
    "\n",
    "## 2º Cuatrimestre de 2017\n",
    "\n",
    "## Módulo 5 - Inferencia Bayesiana\n",
    "\n",
    "### Integrantes:\n",
    "\n",
    "- Mascitti, Julio Augusto - 954/11 - mascittija@gmail.com\n",
    "\n",
    "- Aleman, Damián - 377/10 - damianaleman@gmail.com\n",
    "\n",
    "- Guerson, Matias Carlos - 925/10 - matias.guerson@gmail.com\n"
   ]
  },
  {
   "cell_type": "code",
   "execution_count": null,
   "metadata": {
    "collapsed": true
   },
   "outputs": [],
   "source": [
    "%matplotlib inline\n",
    "import warnings\n",
    "warnings.filterwarnings('ignore')\n",
    "import numpy as np\n",
    "import theano.tensor as tt\n",
    "import pymc3 as pm\n",
    "\n",
    "import seaborn as sns\n",
    "import matplotlib.pyplot as plt\n",
    "sns.set_context('notebook')"
   ]
  },
  {
   "cell_type": "code",
   "execution_count": null,
   "metadata": {
    "collapsed": true
   },
   "outputs": [],
   "source": [
    "def plot_posterior(n, alpha, beta):\n",
    "    with pm.Model() as model:\n",
    "        theta = pm.Beta('theta', alpha, beta)\n",
    "        likelihood = pm.Binomial('bin', n, theta, observed=n)\n",
    "        b = pm.Bernoulli('post', theta)\n",
    "        trace = pm.sample()\n",
    "        print(\"Posterior con alpha: \", alpha, \" y beta: \", beta)\n",
    "        #SACARprint(\"max: \", trace['prior'].max())\n",
    "        print(\"Mean: \", trace['theta'].mean())\n",
    "        print('Max: ', pm.find_MAP(model=model)['theta'])\n",
    "        pm.plot_posterior(trace);\n",
    "        return model, trace\n",
    "\n",
    "def analize(n):\n",
    "    model1, trace1 = plot_posterior(n, 1, 1)\n",
    "    model50, trace50 = plot_posterior(n, 50, 50)\n",
    "    \n",
    "    \n",
    "    \n"
   ]
  },
  {
   "cell_type": "markdown",
   "metadata": {},
   "source": [
    "#### Análisis para 6 tiradas con 6 caras"
   ]
  },
  {
   "cell_type": "code",
   "execution_count": null,
   "metadata": {},
   "outputs": [],
   "source": [
    "analize(6)"
   ]
  },
  {
   "cell_type": "markdown",
   "metadata": {},
   "source": [
    "#### Análisis para 3 tiradas con 3 caras"
   ]
  },
  {
   "cell_type": "code",
   "execution_count": null,
   "metadata": {},
   "outputs": [],
   "source": [
    "analize(3)"
   ]
  },
  {
   "cell_type": "markdown",
   "metadata": {},
   "source": [
    "#### Análisis para 20 tiradas con 20 caras"
   ]
  },
  {
   "cell_type": "code",
   "execution_count": null,
   "metadata": {},
   "outputs": [],
   "source": [
    "analize(20)"
   ]
  },
  {
   "cell_type": "markdown",
   "metadata": {},
   "source": [
    "## 4) Análisis:\n",
    "    \n",
    "### 3 tiradas con 3 caras\n",
    "    \n",
    "    En este caso, para un alpha y beta con valor 1, es decir, un prior en el que no asumo nada, podemos observar como el modelo me dice que es muy probable que la moneda esté cargada.\n",
    "    En cambio, cuando suponemos como prior que es equiprobable que salga cara o seca, y le decimos que observamos 3 caras, claramente es muy poco evidencia como para que altere nuestra suposición de equiprobabilidad. Por lo tanto, al querer predecir la próxima tirada, podemos ver probabilidades del 50% para cada valor posible.\n",
    "    \n",
    "### 20 tiradas con 20 caras\n",
    "    \n",
    "    Aquí, con un prior en el que no asumimos nada, pasa lo mismo que en el caso anterior, pero más marcado aún, estoy exponiendo más evidencia para afirmar que la moneda podría llegar a estar cargada. En este caso una próxima tirada tiene probabilidad mayor a 95% de mostrar una cara, y en el caso anterior rondaba el 80%.\n",
    "    Para el prior donde suponemos de antemano que la moneda no está cargada, podemos ver como la evidencia empieza a pesar más y muestra una leve inclinación hacia la idea de que la moneda esté cargada. Esto lo podemos notar en la predicción de la siguiente tirada, donde la probabilidad está muy cerca del 60%."
   ]
  },
  {
   "cell_type": "markdown",
   "metadata": {},
   "source": [
    "## 5)\n",
    "\n",
    "Una idea razonable para empezar a sospechar que la moneda está cargada, es con 5 tiradas. Luego de ver 5 tiradas consecutivas de car, comenzamos a sospechar que la moneda está cargada, y de esta manera un prior razonable es utilzar una distribucion Beta(aplha,aplha)"
   ]
  },
  {
   "cell_type": "code",
   "execution_count": null,
   "metadata": {},
   "outputs": [],
   "source": [
    "plot_posterior(5, 0.01, 0.01)"
   ]
  }
 ],
 "metadata": {
  "kernelspec": {
   "display_name": "Python 3",
   "language": "python",
   "name": "python3"
  },
  "language_info": {
   "codemirror_mode": {
    "name": "ipython",
    "version": 3
   },
   "file_extension": ".py",
   "mimetype": "text/x-python",
   "name": "python",
   "nbconvert_exporter": "python",
   "pygments_lexer": "ipython3",
   "version": "3.6.3"
  }
 },
 "nbformat": 4,
 "nbformat_minor": 2
}
